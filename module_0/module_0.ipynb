{
 "cells": [
  {
   "cell_type": "code",
   "execution_count": 127,
   "metadata": {},
   "outputs": [],
   "source": [
    "def main_game():\n",
    "    \"\"\"Функция загадывает случайное число и запускает алгоритм бинарного поиска.\"\"\"\n",
    "    import numpy as np\n",
    "    searched_num = np.random.randint(1, 101)\n",
    "\n",
    "    temp_list = list(range(1, 101))\n",
    "    count = 1\n",
    "    \n",
    "    while True:\n",
    "        count += 1\n",
    "        temp_list_middle = len(temp_list)//2\n",
    "        guess_num = temp_list[temp_list_middle]\n",
    "        if guess_num == searched_num:\n",
    "            break\n",
    "        else:\n",
    "            if searched_num < guess_num:\n",
    "                for del_element in range(temp_list_middle):\n",
    "                    del temp_list[-1]\n",
    "            else:\n",
    "                for del_element in range(temp_list_middle):\n",
    "                    del temp_list[0]\n",
    "    \n",
    "    return(count) # Функция возвращает количесто попыток поиска числа.\n",
    "\n",
    "\n",
    "def mean_score_count(main_game, check_count=1000):\n",
    "    \"\"\"Функция запускает игру {check_count} раз,\n",
    "    чтобы узнать среднее число попыток поиска числа.\n",
    "    \"\"\"\n",
    "    import numpy as np\n",
    "    score_count_list = list()\n",
    "    \n",
    "    for check_number in range(check_count):\n",
    "        game_result = main_game()\n",
    "        score_count_list.append(game_result)\n",
    "    \n",
    "    mean_score = int(np.mean(score_count_list))\n",
    "    \n",
    "    return print(f\"Ваш алгоритм угадывает число в среднем за {mean_score} попыток\")"
   ]
  },
  {
   "cell_type": "code",
   "execution_count": 132,
   "metadata": {},
   "outputs": [
    {
     "name": "stdout",
     "output_type": "stream",
     "text": [
      "Ваш алгоритм угадывает число в среднем за 6 попыток\n"
     ]
    }
   ],
   "source": [
    "mean_score_count(main_game, 500)"
   ]
  }
 ],
 "metadata": {
  "kernelspec": {
   "display_name": "Python 3",
   "language": "python",
   "name": "python3"
  },
  "language_info": {
   "codemirror_mode": {
    "name": "ipython",
    "version": 3
   },
   "file_extension": ".py",
   "mimetype": "text/x-python",
   "name": "python",
   "nbconvert_exporter": "python",
   "pygments_lexer": "ipython3",
   "version": "3.9.0"
  }
 },
 "nbformat": 4,
 "nbformat_minor": 4
}
