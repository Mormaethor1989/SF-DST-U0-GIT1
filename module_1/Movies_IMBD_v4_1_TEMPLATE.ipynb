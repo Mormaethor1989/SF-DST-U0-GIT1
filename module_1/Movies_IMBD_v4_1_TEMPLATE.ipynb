{
  "nbformat": 4,
  "nbformat_minor": 0,
  "metadata": {
    "colab": {
      "name": "Movies_IMBD_v4.1_TEMPLATE_draft",
      "provenance": [],
      "collapsed_sections": []
    },
    "kernelspec": {
      "display_name": "Python 3",
      "language": "python",
      "name": "python3"
    },
    "language_info": {
      "codemirror_mode": {
        "name": "ipython",
        "version": 3
      },
      "file_extension": ".py",
      "mimetype": "text/x-python",
      "name": "python",
      "nbconvert_exporter": "python",
      "pygments_lexer": "ipython3",
      "version": "3.7.4"
    }
  },
  "cells": [
    {
      "cell_type": "code",
      "metadata": {
        "_cell_guid": "b1076dfc-b9ad-4769-8c92-a6c4dae69d19",
        "_uuid": "8f2839f25d086af736a60e9eeb907d3b93b6e0e5",
        "id": "U2D2gTdJVp90"
      },
      "source": [
        "import numpy as np\n",
        "import pandas as pd\n",
        "import seaborn as sns\n",
        "import matplotlib.pyplot as plt\n",
        "import itertools\n",
        "from collections import Counter\n",
        "from datetime import datetime\n",
        "# С переменной удобней работать, чем с полным путем к файлу:\n",
        "movie_bd_v5_file = 'https://lms.skillfactory.ru/assets/courseware/v1/1d68c628a08cd5521ae70e976577568b/asset-v1:Skillfactory+DST-WEEKLY-2.0+08JULY2020+type@asset+block/movie_bd_v5.csv'"
      ],
      "execution_count": 246,
      "outputs": []
    },
    {
      "cell_type": "code",
      "metadata": {
        "_cell_guid": "79c7e3d0-c299-4dcb-8224-4455121ee9b0",
        "_uuid": "d629ff2d2480ee46fbb7e2d37f6b5fab8052498a",
        "colab": {
          "base_uri": "https://localhost:8080/",
          "height": 652
        },
        "id": "oyGfxL3eVp9-",
        "outputId": "e776812f-c0bd-4481-f401-dca83b2569df"
      },
      "source": [
        "data = pd.read_csv(movie_bd_v5_file)\n",
        "data.sample(5)"
      ],
      "execution_count": 247,
      "outputs": [
        {
          "output_type": "execute_result",
          "data": {
            "text/html": [
              "<div>\n",
              "<style scoped>\n",
              "    .dataframe tbody tr th:only-of-type {\n",
              "        vertical-align: middle;\n",
              "    }\n",
              "\n",
              "    .dataframe tbody tr th {\n",
              "        vertical-align: top;\n",
              "    }\n",
              "\n",
              "    .dataframe thead th {\n",
              "        text-align: right;\n",
              "    }\n",
              "</style>\n",
              "<table border=\"1\" class=\"dataframe\">\n",
              "  <thead>\n",
              "    <tr style=\"text-align: right;\">\n",
              "      <th></th>\n",
              "      <th>imdb_id</th>\n",
              "      <th>budget</th>\n",
              "      <th>revenue</th>\n",
              "      <th>original_title</th>\n",
              "      <th>cast</th>\n",
              "      <th>director</th>\n",
              "      <th>tagline</th>\n",
              "      <th>overview</th>\n",
              "      <th>runtime</th>\n",
              "      <th>genres</th>\n",
              "      <th>production_companies</th>\n",
              "      <th>release_date</th>\n",
              "      <th>vote_average</th>\n",
              "      <th>release_year</th>\n",
              "    </tr>\n",
              "  </thead>\n",
              "  <tbody>\n",
              "    <tr>\n",
              "      <th>289</th>\n",
              "      <td>tt1352824</td>\n",
              "      <td>15000000</td>\n",
              "      <td>8459458</td>\n",
              "      <td>Chloe</td>\n",
              "      <td>Julianne Moore|Liam Neeson|Amanda Seyfried|Max...</td>\n",
              "      <td>Atom Egoyan</td>\n",
              "      <td>If the one you love was lying to you, how far ...</td>\n",
              "      <td>A doctor hires an escort to seduce her husband...</td>\n",
              "      <td>96</td>\n",
              "      <td>Drama|Thriller|Mystery</td>\n",
              "      <td>StudioCanal|Montecito Picture Company, The|Out...</td>\n",
              "      <td>3/25/2009</td>\n",
              "      <td>5.9</td>\n",
              "      <td>2009</td>\n",
              "    </tr>\n",
              "    <tr>\n",
              "      <th>694</th>\n",
              "      <td>tt1031969</td>\n",
              "      <td>15000000</td>\n",
              "      <td>8762890</td>\n",
              "      <td>The Rocker</td>\n",
              "      <td>Rainn Wilson|Josh Gad|Christina Applegate|Emma...</td>\n",
              "      <td>Peter Cattaneo</td>\n",
              "      <td>Opportunity rocks.</td>\n",
              "      <td>Rob \"Fish\" Fishman is the drummer in '80s hair...</td>\n",
              "      <td>102</td>\n",
              "      <td>Comedy|Music</td>\n",
              "      <td>Fox Atomic</td>\n",
              "      <td>8/20/2008</td>\n",
              "      <td>5.4</td>\n",
              "      <td>2008</td>\n",
              "    </tr>\n",
              "    <tr>\n",
              "      <th>495</th>\n",
              "      <td>tt1028576</td>\n",
              "      <td>35000000</td>\n",
              "      <td>60251371</td>\n",
              "      <td>Secretariat</td>\n",
              "      <td>Diane Lane|John Malkovich|Scott Glenn|Dylan Wa...</td>\n",
              "      <td>Randall Wallace</td>\n",
              "      <td>The Impossible True Story</td>\n",
              "      <td>Housewife and mother Penny Chenery agrees to t...</td>\n",
              "      <td>123</td>\n",
              "      <td>Drama</td>\n",
              "      <td>Walt Disney Pictures|Fast Track Productions|Ma...</td>\n",
              "      <td>8/20/2010</td>\n",
              "      <td>6.6</td>\n",
              "      <td>2010</td>\n",
              "    </tr>\n",
              "    <tr>\n",
              "      <th>1447</th>\n",
              "      <td>tt0206634</td>\n",
              "      <td>76000000</td>\n",
              "      <td>69959751</td>\n",
              "      <td>Children of Men</td>\n",
              "      <td>Clive Owen|Michael Caine|Julianne Moore|Charli...</td>\n",
              "      <td>Alfonso CuarÃ³n</td>\n",
              "      <td>The future's a thing of the past.</td>\n",
              "      <td>In 2027, in a chaotic world in which humans ca...</td>\n",
              "      <td>109</td>\n",
              "      <td>Drama|Action|Thriller|Science Fiction</td>\n",
              "      <td>Universal Pictures|Strike Entertainment|Hit &amp; ...</td>\n",
              "      <td>9/22/2006</td>\n",
              "      <td>7.3</td>\n",
              "      <td>2006</td>\n",
              "    </tr>\n",
              "    <tr>\n",
              "      <th>1354</th>\n",
              "      <td>tt0400497</td>\n",
              "      <td>50000000</td>\n",
              "      <td>66002004</td>\n",
              "      <td>Herbie Fully Loaded</td>\n",
              "      <td>Lindsay Lohan|Michael Keaton|Matt Dillon|Breck...</td>\n",
              "      <td>Angela Robinson</td>\n",
              "      <td>Start your engines...</td>\n",
              "      <td>Maggie Peyton, the new owner of Number 53 - th...</td>\n",
              "      <td>101</td>\n",
              "      <td>Comedy|Family|Adventure|Fantasy|Romance</td>\n",
              "      <td>Walt Disney Pictures|Robert Simonds Productions</td>\n",
              "      <td>6/18/2005</td>\n",
              "      <td>5.2</td>\n",
              "      <td>2005</td>\n",
              "    </tr>\n",
              "  </tbody>\n",
              "</table>\n",
              "</div>"
            ],
            "text/plain": [
              "        imdb_id    budget   revenue  ... release_date vote_average release_year\n",
              "289   tt1352824  15000000   8459458  ...    3/25/2009          5.9         2009\n",
              "694   tt1031969  15000000   8762890  ...    8/20/2008          5.4         2008\n",
              "495   tt1028576  35000000  60251371  ...    8/20/2010          6.6         2010\n",
              "1447  tt0206634  76000000  69959751  ...    9/22/2006          7.3         2006\n",
              "1354  tt0400497  50000000  66002004  ...    6/18/2005          5.2         2005\n",
              "\n",
              "[5 rows x 14 columns]"
            ]
          },
          "metadata": {
            "tags": []
          },
          "execution_count": 247
        }
      ]
    },
    {
      "cell_type": "code",
      "metadata": {
        "colab": {
          "base_uri": "https://localhost:8080/",
          "height": 284
        },
        "id": "CoYUnagMVp-C",
        "outputId": "dfaea022-089f-4737-d747-2f53f3273553"
      },
      "source": [
        "data.describe()"
      ],
      "execution_count": 248,
      "outputs": [
        {
          "output_type": "execute_result",
          "data": {
            "text/html": [
              "<div>\n",
              "<style scoped>\n",
              "    .dataframe tbody tr th:only-of-type {\n",
              "        vertical-align: middle;\n",
              "    }\n",
              "\n",
              "    .dataframe tbody tr th {\n",
              "        vertical-align: top;\n",
              "    }\n",
              "\n",
              "    .dataframe thead th {\n",
              "        text-align: right;\n",
              "    }\n",
              "</style>\n",
              "<table border=\"1\" class=\"dataframe\">\n",
              "  <thead>\n",
              "    <tr style=\"text-align: right;\">\n",
              "      <th></th>\n",
              "      <th>budget</th>\n",
              "      <th>revenue</th>\n",
              "      <th>runtime</th>\n",
              "      <th>vote_average</th>\n",
              "      <th>release_year</th>\n",
              "    </tr>\n",
              "  </thead>\n",
              "  <tbody>\n",
              "    <tr>\n",
              "      <th>count</th>\n",
              "      <td>1.889000e+03</td>\n",
              "      <td>1.889000e+03</td>\n",
              "      <td>1889.000000</td>\n",
              "      <td>1889.000000</td>\n",
              "      <td>1889.000000</td>\n",
              "    </tr>\n",
              "    <tr>\n",
              "      <th>mean</th>\n",
              "      <td>5.431083e+07</td>\n",
              "      <td>1.553653e+08</td>\n",
              "      <td>109.658549</td>\n",
              "      <td>6.140762</td>\n",
              "      <td>2007.860773</td>\n",
              "    </tr>\n",
              "    <tr>\n",
              "      <th>std</th>\n",
              "      <td>4.858721e+07</td>\n",
              "      <td>2.146698e+08</td>\n",
              "      <td>18.017041</td>\n",
              "      <td>0.764763</td>\n",
              "      <td>4.468841</td>\n",
              "    </tr>\n",
              "    <tr>\n",
              "      <th>min</th>\n",
              "      <td>5.000000e+06</td>\n",
              "      <td>2.033165e+06</td>\n",
              "      <td>63.000000</td>\n",
              "      <td>3.300000</td>\n",
              "      <td>2000.000000</td>\n",
              "    </tr>\n",
              "    <tr>\n",
              "      <th>25%</th>\n",
              "      <td>2.000000e+07</td>\n",
              "      <td>3.456058e+07</td>\n",
              "      <td>97.000000</td>\n",
              "      <td>5.600000</td>\n",
              "      <td>2004.000000</td>\n",
              "    </tr>\n",
              "    <tr>\n",
              "      <th>50%</th>\n",
              "      <td>3.800000e+07</td>\n",
              "      <td>8.361541e+07</td>\n",
              "      <td>107.000000</td>\n",
              "      <td>6.100000</td>\n",
              "      <td>2008.000000</td>\n",
              "    </tr>\n",
              "    <tr>\n",
              "      <th>75%</th>\n",
              "      <td>7.200000e+07</td>\n",
              "      <td>1.782626e+08</td>\n",
              "      <td>120.000000</td>\n",
              "      <td>6.600000</td>\n",
              "      <td>2012.000000</td>\n",
              "    </tr>\n",
              "    <tr>\n",
              "      <th>max</th>\n",
              "      <td>3.800000e+08</td>\n",
              "      <td>2.781506e+09</td>\n",
              "      <td>214.000000</td>\n",
              "      <td>8.100000</td>\n",
              "      <td>2015.000000</td>\n",
              "    </tr>\n",
              "  </tbody>\n",
              "</table>\n",
              "</div>"
            ],
            "text/plain": [
              "             budget       revenue      runtime  vote_average  release_year\n",
              "count  1.889000e+03  1.889000e+03  1889.000000   1889.000000   1889.000000\n",
              "mean   5.431083e+07  1.553653e+08   109.658549      6.140762   2007.860773\n",
              "std    4.858721e+07  2.146698e+08    18.017041      0.764763      4.468841\n",
              "min    5.000000e+06  2.033165e+06    63.000000      3.300000   2000.000000\n",
              "25%    2.000000e+07  3.456058e+07    97.000000      5.600000   2004.000000\n",
              "50%    3.800000e+07  8.361541e+07   107.000000      6.100000   2008.000000\n",
              "75%    7.200000e+07  1.782626e+08   120.000000      6.600000   2012.000000\n",
              "max    3.800000e+08  2.781506e+09   214.000000      8.100000   2015.000000"
            ]
          },
          "metadata": {
            "tags": []
          },
          "execution_count": 248
        }
      ]
    },
    {
      "cell_type": "markdown",
      "metadata": {
        "id": "DTIt7ezGVp-G"
      },
      "source": [
        "# Предобработка"
      ]
    },
    {
      "cell_type": "code",
      "metadata": {
        "id": "jNb40DwKVp-H",
        "colab": {
          "base_uri": "https://localhost:8080/",
          "height": 719
        },
        "outputId": "2c432467-cd3e-4d0f-8256-b7800effda69"
      },
      "source": [
        "# Функция извлечения месяца из полной даты.\n",
        "def change_to_month(date_str):\n",
        "  date = datetime.strptime(date_str, '%m/%d/%Y')\n",
        "  return date.month\n",
        "\n",
        "\n",
        "# Функция извлечения сезона года из полной даты\n",
        "def change_to_season(date_str):\n",
        "  date = datetime.strptime(date_str, '%m/%d/%Y')\n",
        "  if date.month in [12, 1, 2]:\n",
        "    return 'winter'\n",
        "  elif date.month in [3, 4, 5]:\n",
        "    return 'spring'\n",
        "  elif date.month in [6, 7, 8]:\n",
        "    return 'summer'\n",
        "  else:\n",
        "    return 'autumn'\n",
        "\n",
        "\n",
        "answers = {} # словарь для ответов\n",
        "\n",
        "# предобработки колонок:\n",
        "# прибыль(или убытки) = сборы - бюджет\n",
        "data['profit'] = data['revenue'] - data['budget']\n",
        "# месяц в числовом представленииб извлеченный из даты\n",
        "data['month'] = data['release_date'].apply(lambda date:change_to_month(date))\n",
        "# сезон года, извлеченный из даты\n",
        "data['season_of_year'] = data['release_date'].apply(\n",
        "    lambda date:change_to_season(date))\n",
        "# количество символов в названии фильма\n",
        "data['original_title_len'] = data['original_title'].apply(\n",
        "    lambda film_name:len(film_name))\n",
        "# количество слов в описании фильма\n",
        "data['overview_words_count'] = data['overview'].apply(\n",
        "    lambda word:len(word.split()))\n",
        "\n",
        "data.sample(5)"
      ],
      "execution_count": 251,
      "outputs": [
        {
          "output_type": "execute_result",
          "data": {
            "text/html": [
              "<div>\n",
              "<style scoped>\n",
              "    .dataframe tbody tr th:only-of-type {\n",
              "        vertical-align: middle;\n",
              "    }\n",
              "\n",
              "    .dataframe tbody tr th {\n",
              "        vertical-align: top;\n",
              "    }\n",
              "\n",
              "    .dataframe thead th {\n",
              "        text-align: right;\n",
              "    }\n",
              "</style>\n",
              "<table border=\"1\" class=\"dataframe\">\n",
              "  <thead>\n",
              "    <tr style=\"text-align: right;\">\n",
              "      <th></th>\n",
              "      <th>imdb_id</th>\n",
              "      <th>budget</th>\n",
              "      <th>revenue</th>\n",
              "      <th>original_title</th>\n",
              "      <th>cast</th>\n",
              "      <th>director</th>\n",
              "      <th>tagline</th>\n",
              "      <th>overview</th>\n",
              "      <th>runtime</th>\n",
              "      <th>genres</th>\n",
              "      <th>production_companies</th>\n",
              "      <th>release_date</th>\n",
              "      <th>vote_average</th>\n",
              "      <th>release_year</th>\n",
              "      <th>profit</th>\n",
              "      <th>month</th>\n",
              "      <th>season_of_year</th>\n",
              "      <th>original_title_len</th>\n",
              "      <th>overview_words_count</th>\n",
              "    </tr>\n",
              "  </thead>\n",
              "  <tbody>\n",
              "    <tr>\n",
              "      <th>1440</th>\n",
              "      <td>tt0317919</td>\n",
              "      <td>150000000</td>\n",
              "      <td>397850012</td>\n",
              "      <td>Mission: Impossible III</td>\n",
              "      <td>[Tom Cruise, Philip Seymour Hoffman, Ving Rham...</td>\n",
              "      <td>J.J. Abrams</td>\n",
              "      <td>The Mission Begins 05:05:06.</td>\n",
              "      <td>Retired from active duty to train new IMF agen...</td>\n",
              "      <td>126</td>\n",
              "      <td>Adventure|Action|Thriller</td>\n",
              "      <td>Paramount Pictures|Cruise/Wagner Productions|S...</td>\n",
              "      <td>5/3/2006</td>\n",
              "      <td>6.3</td>\n",
              "      <td>2006</td>\n",
              "      <td>247850012</td>\n",
              "      <td>5</td>\n",
              "      <td>spring</td>\n",
              "      <td>23</td>\n",
              "      <td>40</td>\n",
              "    </tr>\n",
              "    <tr>\n",
              "      <th>183</th>\n",
              "      <td>tt1234721</td>\n",
              "      <td>120000000</td>\n",
              "      <td>239379423</td>\n",
              "      <td>RoboCop</td>\n",
              "      <td>[Joel Kinnaman, Gary Oldman, Michael Keaton, A...</td>\n",
              "      <td>JosÃ© Padilha</td>\n",
              "      <td>We've got the future under control.</td>\n",
              "      <td>In RoboCop, the year is 2028 and multinational...</td>\n",
              "      <td>102</td>\n",
              "      <td>Science Fiction|Action</td>\n",
              "      <td>Columbia Pictures|Strike Entertainment|Metro-G...</td>\n",
              "      <td>1/30/2014</td>\n",
              "      <td>5.7</td>\n",
              "      <td>2014</td>\n",
              "      <td>119379423</td>\n",
              "      <td>1</td>\n",
              "      <td>winter</td>\n",
              "      <td>7</td>\n",
              "      <td>126</td>\n",
              "    </tr>\n",
              "    <tr>\n",
              "      <th>572</th>\n",
              "      <td>tt0239948</td>\n",
              "      <td>22000000</td>\n",
              "      <td>19351569</td>\n",
              "      <td>Saving Silverman</td>\n",
              "      <td>[Jason Biggs, Steve Zahn, Jack Black, Amanda P...</td>\n",
              "      <td>Dennis Dugan</td>\n",
              "      <td>They swore nothing would come between them. Th...</td>\n",
              "      <td>A pair of buddies conspire to save their best ...</td>\n",
              "      <td>90</td>\n",
              "      <td>Comedy|Romance|Crime</td>\n",
              "      <td>Village Roadshow Pictures|NPV Entertainment|Co...</td>\n",
              "      <td>2/9/2001</td>\n",
              "      <td>5.2</td>\n",
              "      <td>2001</td>\n",
              "      <td>-2648431</td>\n",
              "      <td>2</td>\n",
              "      <td>winter</td>\n",
              "      <td>16</td>\n",
              "      <td>31</td>\n",
              "    </tr>\n",
              "    <tr>\n",
              "      <th>438</th>\n",
              "      <td>tt1075747</td>\n",
              "      <td>47000000</td>\n",
              "      <td>10539000</td>\n",
              "      <td>Jonah Hex</td>\n",
              "      <td>[Josh Brolin, John Malkovich, Megan Fox, Micha...</td>\n",
              "      <td>Jimmy Hayward</td>\n",
              "      <td>Revenge gets ugly.</td>\n",
              "      <td>Gunsliger Jonah Hex (Josh Brolin) is appointed...</td>\n",
              "      <td>80</td>\n",
              "      <td>Action|Western|Drama|Fantasy|Thriller</td>\n",
              "      <td>Warner Bros.</td>\n",
              "      <td>6/18/2010</td>\n",
              "      <td>4.4</td>\n",
              "      <td>2010</td>\n",
              "      <td>-36461000</td>\n",
              "      <td>6</td>\n",
              "      <td>summer</td>\n",
              "      <td>9</td>\n",
              "      <td>66</td>\n",
              "    </tr>\n",
              "    <tr>\n",
              "      <th>1235</th>\n",
              "      <td>tt1308729</td>\n",
              "      <td>55000000</td>\n",
              "      <td>9489829</td>\n",
              "      <td>Bullet to the Head</td>\n",
              "      <td>[Sylvester Stallone, Sung Kang, Sarah Shahi, A...</td>\n",
              "      <td>Walter Hill</td>\n",
              "      <td>Revenge Never Gets Old.</td>\n",
              "      <td>After watching their respective partners die, ...</td>\n",
              "      <td>92</td>\n",
              "      <td>Action|Crime|Thriller</td>\n",
              "      <td>Dark Castle Entertainment|After Dark Films|IM ...</td>\n",
              "      <td>1/31/2013</td>\n",
              "      <td>5.2</td>\n",
              "      <td>2013</td>\n",
              "      <td>-45510171</td>\n",
              "      <td>1</td>\n",
              "      <td>winter</td>\n",
              "      <td>18</td>\n",
              "      <td>22</td>\n",
              "    </tr>\n",
              "  </tbody>\n",
              "</table>\n",
              "</div>"
            ],
            "text/plain": [
              "        imdb_id     budget  ...  original_title_len overview_words_count\n",
              "1440  tt0317919  150000000  ...                  23                   40\n",
              "183   tt1234721  120000000  ...                   7                  126\n",
              "572   tt0239948   22000000  ...                  16                   31\n",
              "438   tt1075747   47000000  ...                   9                   66\n",
              "1235  tt1308729   55000000  ...                  18                   22\n",
              "\n",
              "[5 rows x 19 columns]"
            ]
          },
          "metadata": {
            "tags": []
          },
          "execution_count": 251
        }
      ]
    },
    {
      "cell_type": "markdown",
      "metadata": {
        "id": "YxZaH-nPVp-L"
      },
      "source": [
        "# 1. У какого фильма из списка самый большой бюджет?"
      ]
    },
    {
      "cell_type": "markdown",
      "metadata": {
        "id": "Nd-G5gX6Vp-M"
      },
      "source": [
        "Использовать варианты ответов в коде решения запрещено.    \n",
        "Вы думаете и в жизни у вас будут варианты ответов?)"
      ]
    },
    {
      "cell_type": "code",
      "metadata": {
        "id": "uVnXAY5RVp-O"
      },
      "source": [
        "answers['1'] = '5. Pirates of the Caribbean: On Stranger Tides (tt0413300)'"
      ],
      "execution_count": 252,
      "outputs": []
    },
    {
      "cell_type": "code",
      "metadata": {
        "id": "dZwb3m28Vp-S",
        "colab": {
          "base_uri": "https://localhost:8080/"
        },
        "outputId": "35eed2be-f113-4e98-ffdb-3fc2f3d8de21"
      },
      "source": [
        "print(data[data['budget'] == data['budget'].max()]['original_title'].iloc[0])"
      ],
      "execution_count": 364,
      "outputs": [
        {
          "output_type": "stream",
          "text": [
            "Pirates of the Caribbean: On Stranger Tides\n"
          ],
          "name": "stdout"
        }
      ]
    },
    {
      "cell_type": "markdown",
      "metadata": {
        "id": "K7L3nbRXVp-X"
      },
      "source": [
        "ВАРИАНТ 2"
      ]
    },
    {
      "cell_type": "code",
      "metadata": {
        "id": "OGaoQI7rVp-X",
        "colab": {
          "base_uri": "https://localhost:8080/"
        },
        "outputId": "491304b6-e538-416e-b77d-d0b9b7ee50e3"
      },
      "source": [
        "# Если строго как в вариантах ответа, с учётом названия и ID, то:\n",
        "temp_filter = data['budget'] == data['budget'].max()\n",
        "temp_index = data[temp_filter].index.to_list()[0]\n",
        "temp_film_name = data['original_title'][temp_index]\n",
        "temp_lmdb_id = data['imdb_id'][temp_index]\n",
        "print(f\"{temp_film_name} ({temp_lmdb_id})\")"
      ],
      "execution_count": 256,
      "outputs": [
        {
          "output_type": "stream",
          "text": [
            "Pirates of the Caribbean: On Stranger Tides (tt1298650)\n"
          ],
          "name": "stdout"
        }
      ]
    },
    {
      "cell_type": "markdown",
      "metadata": {
        "id": "FNRbbI3vVp-c"
      },
      "source": [
        "# 2. Какой из фильмов самый длительный (в минутах)?"
      ]
    },
    {
      "cell_type": "code",
      "metadata": {
        "id": "vHAoEXNTVp-d"
      },
      "source": [
        "answers['2'] = '2. Gods and Generals (tt0279111)'"
      ],
      "execution_count": 253,
      "outputs": []
    },
    {
      "cell_type": "code",
      "metadata": {
        "id": "ot-VX2XrVp-g",
        "colab": {
          "base_uri": "https://localhost:8080/"
        },
        "outputId": "c1254743-0a59-4c38-8486-07c088926254"
      },
      "source": [
        "print(data[data['runtime'] == data['runtime'].max()]['original_title'].iloc[0])"
      ],
      "execution_count": 363,
      "outputs": [
        {
          "output_type": "stream",
          "text": [
            "Gods and Generals\n"
          ],
          "name": "stdout"
        }
      ]
    },
    {
      "cell_type": "markdown",
      "metadata": {
        "id": "1pwZ9AHutxBu"
      },
      "source": [
        "ВАРИАНТ 2"
      ]
    },
    {
      "cell_type": "code",
      "metadata": {
        "colab": {
          "base_uri": "https://localhost:8080/"
        },
        "id": "sksCcgSrtwN8",
        "outputId": "089659c4-90ae-451c-f2ff-41a838fc3c10"
      },
      "source": [
        "temp_filter = data['runtime'] == data['runtime'].max()\n",
        "temp_index = data[temp_filter].index.to_list()[0]\n",
        "temp_film_name = data['original_title'][temp_index]\n",
        "temp_lmdb_id = data['imdb_id'][temp_index]\n",
        "print(f\"{temp_film_name} ({temp_lmdb_id})\")"
      ],
      "execution_count": 258,
      "outputs": [
        {
          "output_type": "stream",
          "text": [
            "Gods and Generals (tt0279111)\n"
          ],
          "name": "stdout"
        }
      ]
    },
    {
      "cell_type": "markdown",
      "metadata": {
        "id": "bapLlpW8Vp-k"
      },
      "source": [
        "# 3. Какой из фильмов самый короткий (в минутах)?\n",
        "\n",
        "\n",
        "\n"
      ]
    },
    {
      "cell_type": "code",
      "metadata": {
        "id": "H4ltBVV_lkyG"
      },
      "source": [
        "answers['3'] = '3. Winnie the Pooh (tt1449283)'"
      ],
      "execution_count": 254,
      "outputs": []
    },
    {
      "cell_type": "code",
      "metadata": {
        "id": "YBxaSHuAVp-l",
        "colab": {
          "base_uri": "https://localhost:8080/"
        },
        "outputId": "7886f403-79a8-4806-b9e3-a163aa4153f1"
      },
      "source": [
        "print(data[data['runtime'] == data['runtime'].min()]['original_title'].iloc[0])"
      ],
      "execution_count": 362,
      "outputs": [
        {
          "output_type": "stream",
          "text": [
            "Winnie the Pooh\n"
          ],
          "name": "stdout"
        }
      ]
    },
    {
      "cell_type": "markdown",
      "metadata": {
        "id": "peeaGmT5u9wt"
      },
      "source": [
        "ВАРИАНТ 2"
      ]
    },
    {
      "cell_type": "code",
      "metadata": {
        "colab": {
          "base_uri": "https://localhost:8080/"
        },
        "id": "lMuVXKoEvBMu",
        "outputId": "824e20cf-c4b7-4bd3-f8c5-13cd46977b36"
      },
      "source": [
        "temp_filter = data['runtime'] == data['runtime'].min()\n",
        "temp_index = data[temp_filter].index.to_list()[0]\n",
        "temp_film_name = data['original_title'][temp_index]\n",
        "temp_lmdb_id = data['imdb_id'][temp_index]\n",
        "print(f\"{temp_film_name} ({temp_lmdb_id})\")"
      ],
      "execution_count": 259,
      "outputs": [
        {
          "output_type": "stream",
          "text": [
            "Winnie the Pooh (tt1449283)\n"
          ],
          "name": "stdout"
        }
      ]
    },
    {
      "cell_type": "markdown",
      "metadata": {
        "id": "TfQbxbfNVp-p"
      },
      "source": [
        "# 4. Какова средняя длительность фильмов?\n"
      ]
    },
    {
      "cell_type": "code",
      "metadata": {
        "id": "mBRAo3jXmow9"
      },
      "source": [
        "answers['4'] = '2. 110'"
      ],
      "execution_count": 255,
      "outputs": []
    },
    {
      "cell_type": "code",
      "metadata": {
        "id": "5K6dKZYVVp-q",
        "colab": {
          "base_uri": "https://localhost:8080/"
        },
        "outputId": "8a84468d-1ab3-47fd-c41b-40ca95d6152c"
      },
      "source": [
        "print(int(round(data['runtime'].mean(), 0)))"
      ],
      "execution_count": 361,
      "outputs": [
        {
          "output_type": "stream",
          "text": [
            "110\n"
          ],
          "name": "stdout"
        }
      ]
    },
    {
      "cell_type": "markdown",
      "metadata": {
        "id": "r5TvbnT_Vp-u"
      },
      "source": [
        "# 5. Каково медианное значение длительности фильмов? "
      ]
    },
    {
      "cell_type": "code",
      "metadata": {
        "id": "Ie62mSrLnR8H"
      },
      "source": [
        "answers['5'] = '1. 107'"
      ],
      "execution_count": 256,
      "outputs": []
    },
    {
      "cell_type": "code",
      "metadata": {
        "id": "iBROplKnVp-v",
        "colab": {
          "base_uri": "https://localhost:8080/"
        },
        "outputId": "f5ec4c3b-d79c-4162-ebb1-3353a38db221"
      },
      "source": [
        "print(int(data['runtime'].median()))"
      ],
      "execution_count": 360,
      "outputs": [
        {
          "output_type": "stream",
          "text": [
            "107\n"
          ],
          "name": "stdout"
        }
      ]
    },
    {
      "cell_type": "markdown",
      "metadata": {
        "id": "39P-deDSVp-y"
      },
      "source": [
        "# 6. Какой самый прибыльный фильм?\n",
        "#### Внимание! Здесь и далее под «прибылью» или «убытками» понимается разность между сборами и бюджетом фильма. (прибыль = сборы - бюджет) в нашем датасете это будет (profit = revenue - budget) "
      ]
    },
    {
      "cell_type": "code",
      "metadata": {
        "id": "exStwGlM-yCR"
      },
      "source": [
        "answers['6'] = '5. Avatar (tt0499549)'"
      ],
      "execution_count": 257,
      "outputs": []
    },
    {
      "cell_type": "code",
      "metadata": {
        "id": "RjNsoJRR2oCi"
      },
      "source": [
        "# не \"разность\", а \"разница\". в математике нет понятия \"разность\"."
      ],
      "execution_count": null,
      "outputs": []
    },
    {
      "cell_type": "code",
      "metadata": {
        "colab": {
          "base_uri": "https://localhost:8080/"
        },
        "id": "urZxjDKu4QUQ",
        "outputId": "0283e686-f9d0-4d4f-d115-c8863fcef40b"
      },
      "source": [
        "print(data[data['profit'] == data['profit'].max()]['original_title'].iloc[0])"
      ],
      "execution_count": 359,
      "outputs": [
        {
          "output_type": "stream",
          "text": [
            "Avatar\n"
          ],
          "name": "stdout"
        }
      ]
    },
    {
      "cell_type": "markdown",
      "metadata": {
        "id": "Hyc1g2M64Kti"
      },
      "source": [
        "ВАРИАНТ 2"
      ]
    },
    {
      "cell_type": "code",
      "metadata": {
        "id": "UYZh4T9WVp-y",
        "colab": {
          "base_uri": "https://localhost:8080/"
        },
        "outputId": "aecd56e6-a284-40e8-b945-1dd0f3037c79"
      },
      "source": [
        "temp_filter = data['profit'] == data['profit'].max()\n",
        "temp_index = data[temp_filter].index.to_list()[0]\n",
        "temp_film_name = data['original_title'][temp_index]\n",
        "temp_lmdb_id = data['imdb_id'][temp_index]\n",
        "print(f\"{temp_film_name} ({temp_lmdb_id})\")"
      ],
      "execution_count": 260,
      "outputs": [
        {
          "output_type": "stream",
          "text": [
            "Avatar (tt0499549)\n"
          ],
          "name": "stdout"
        }
      ]
    },
    {
      "cell_type": "markdown",
      "metadata": {
        "id": "M99JmIX4Vp-2"
      },
      "source": [
        "# 7. Какой фильм самый убыточный? "
      ]
    },
    {
      "cell_type": "code",
      "metadata": {
        "id": "TROHWoS_-937"
      },
      "source": [
        "answers['7'] = '5. The Lone Ranger (tt1210819)'"
      ],
      "execution_count": 258,
      "outputs": []
    },
    {
      "cell_type": "code",
      "metadata": {
        "colab": {
          "base_uri": "https://localhost:8080/"
        },
        "id": "C3Hs4Pss4gSE",
        "outputId": "ec287d0d-d20d-46f3-c916-fadab47f8e4c"
      },
      "source": [
        "print(data[data['profit'] == data['profit'].min()]['original_title'].iloc[0])"
      ],
      "execution_count": 358,
      "outputs": [
        {
          "output_type": "stream",
          "text": [
            "The Lone Ranger\n"
          ],
          "name": "stdout"
        }
      ]
    },
    {
      "cell_type": "markdown",
      "metadata": {
        "id": "Tzp_n2ug4gs3"
      },
      "source": [
        "ВАРИАНТ 2"
      ]
    },
    {
      "cell_type": "code",
      "metadata": {
        "id": "w-D2m4XPVp-3",
        "colab": {
          "base_uri": "https://localhost:8080/"
        },
        "outputId": "78d4ec47-5399-4aba-a23f-9c0dc5ff27ea"
      },
      "source": [
        "temp_filter = data['profit'] == data['profit'].min()\n",
        "temp_index = data[temp_filter].index.to_list()[0]\n",
        "temp_film_name = data['original_title'][temp_index]\n",
        "temp_lmdb_id = data['imdb_id'][temp_index]\n",
        "print(f\"{temp_film_name} ({temp_lmdb_id})\")"
      ],
      "execution_count": 261,
      "outputs": [
        {
          "output_type": "stream",
          "text": [
            "The Lone Ranger (tt1210819)\n"
          ],
          "name": "stdout"
        }
      ]
    },
    {
      "cell_type": "markdown",
      "metadata": {
        "id": "wEOM5ERVVp-6"
      },
      "source": [
        "# 8. У скольких фильмов из датасета объем сборов оказался выше бюджета?"
      ]
    },
    {
      "cell_type": "code",
      "metadata": {
        "id": "A3NWtjp9_FyD"
      },
      "source": [
        "answers['8'] = '1. 1478'"
      ],
      "execution_count": 259,
      "outputs": []
    },
    {
      "cell_type": "code",
      "metadata": {
        "id": "y00_7HD6Vp-7",
        "colab": {
          "base_uri": "https://localhost:8080/"
        },
        "outputId": "96e2d9b1-5da4-422a-c7d8-a63308683c74"
      },
      "source": [
        "print(len(data[data['revenue'] > data['budget']]))"
      ],
      "execution_count": 357,
      "outputs": [
        {
          "output_type": "stream",
          "text": [
            "1478\n"
          ],
          "name": "stdout"
        }
      ]
    },
    {
      "cell_type": "markdown",
      "metadata": {
        "id": "2zjGYXwb5qja"
      },
      "source": [
        "ВАРИАНТ 2"
      ]
    },
    {
      "cell_type": "code",
      "metadata": {
        "colab": {
          "base_uri": "https://localhost:8080/"
        },
        "id": "Umhi1IGg5cIV",
        "outputId": "e02b6cef-672b-4b8f-dc00-9dacf9958cc4"
      },
      "source": [
        "print(len(data.query('revenue > budget')))"
      ],
      "execution_count": 356,
      "outputs": [
        {
          "output_type": "stream",
          "text": [
            "1478\n"
          ],
          "name": "stdout"
        }
      ]
    },
    {
      "cell_type": "markdown",
      "metadata": {
        "id": "xhpspA9KVp_A"
      },
      "source": [
        "# 9. Какой фильм оказался самым кассовым в 2008 году?"
      ]
    },
    {
      "cell_type": "code",
      "metadata": {
        "id": "74KMQmtK_QMB"
      },
      "source": [
        "answers['9'] = '4. The Dark Knight (tt0468569)'"
      ],
      "execution_count": 260,
      "outputs": []
    },
    {
      "cell_type": "code",
      "metadata": {
        "id": "MoUyQr9RVp_B",
        "colab": {
          "base_uri": "https://localhost:8080/"
        },
        "outputId": "ae8a2480-00df-4b18-ef37-b8a83cc2e0f4"
      },
      "source": [
        "temp_df = data.query('release_year==2008')\n",
        "temp_filter = temp_df['revenue'] == temp_df['revenue'].max()\n",
        "temp_index = temp_df[temp_filter].index.to_list()[0]\n",
        "temp_film_name = temp_df['original_title'][temp_index]\n",
        "temp_lmdb_id = temp_df['imdb_id'][temp_index]\n",
        "print(f\"{temp_film_name} ({temp_lmdb_id})\")"
      ],
      "execution_count": 295,
      "outputs": [
        {
          "output_type": "stream",
          "text": [
            "The Dark Knight (tt0468569)\n"
          ],
          "name": "stdout"
        }
      ]
    },
    {
      "cell_type": "markdown",
      "metadata": {
        "id": "Zi4hDKidVp_F"
      },
      "source": [
        "# 10. Самый убыточный фильм за период с 2012 по 2014 г. (включительно)?\n"
      ]
    },
    {
      "cell_type": "code",
      "metadata": {
        "id": "LWtKJSPu_XEg"
      },
      "source": [
        "answers['10'] = '5. The Lone Ranger (tt1210819)'"
      ],
      "execution_count": 261,
      "outputs": []
    },
    {
      "cell_type": "code",
      "metadata": {
        "id": "XqyRmufJVp_F",
        "colab": {
          "base_uri": "https://localhost:8080/"
        },
        "outputId": "d12c377a-e0d9-445d-9ecd-a75bff5db164"
      },
      "source": [
        "temp_df = data.query('2012<=release_year<=2014')\n",
        "temp_filter = temp_df['profit'] == temp_df['profit'].min()\n",
        "temp_index = temp_df[temp_filter].index.to_list()[0]\n",
        "temp_film_name = temp_df['original_title'][temp_index]\n",
        "temp_lmdb_id = temp_df['imdb_id'][temp_index]\n",
        "print(f\"{temp_film_name} ({temp_lmdb_id})\")"
      ],
      "execution_count": 262,
      "outputs": [
        {
          "output_type": "stream",
          "text": [
            "The Lone Ranger (tt1210819)\n"
          ],
          "name": "stdout"
        }
      ]
    },
    {
      "cell_type": "markdown",
      "metadata": {
        "id": "EA7Sa9dkVp_I"
      },
      "source": [
        "# 11. Какого жанра фильмов больше всего?"
      ]
    },
    {
      "cell_type": "code",
      "metadata": {
        "id": "F9RC7WLd_d8H"
      },
      "source": [
        "answers['11'] = '3. Drama'"
      ],
      "execution_count": 262,
      "outputs": []
    },
    {
      "cell_type": "code",
      "metadata": {
        "id": "zsJAwJ8QVp_J",
        "colab": {
          "base_uri": "https://localhost:8080/"
        },
        "outputId": "6877c6ec-5e86-4d0a-c475-5b6fcc85f6d4"
      },
      "source": [
        "# эту задачу тоже можно решать разными подходами, попробуй реализовать разные варианты\n",
        "# если будешь добавлять функцию - выноси ее в предобработку что в начале\n",
        "\n",
        "# объединяем элементы в одну строку и раделяем по '|', создав список\n",
        "\n",
        "temp_list = data['genres'].str.cat(sep='|').split('|')\n",
        "temp_series = pd.Series(temp_list)\n",
        "print(temp_series.value_counts().index.to_list()[0])"
      ],
      "execution_count": 4,
      "outputs": [
        {
          "output_type": "stream",
          "text": [
            "Drama\n"
          ],
          "name": "stdout"
        }
      ]
    },
    {
      "cell_type": "markdown",
      "metadata": {
        "id": "Ax6g2C8SVp_M"
      },
      "source": [
        "ВАРИАНТ 2"
      ]
    },
    {
      "cell_type": "code",
      "metadata": {
        "id": "otO3SbrSVp_N",
        "colab": {
          "base_uri": "https://localhost:8080/"
        },
        "outputId": "e6dfecb8-9a12-48c6-a193-4109c14be772"
      },
      "source": [
        "temp_list = data['genres'].str.cat(sep='|').split('|')\n",
        "genres_temp_list = Counter(temp_list).most_common()\n",
        "print(genres_temp_list[0][0])"
      ],
      "execution_count": 354,
      "outputs": [
        {
          "output_type": "stream",
          "text": [
            "Drama\n"
          ],
          "name": "stdout"
        }
      ]
    },
    {
      "cell_type": "markdown",
      "metadata": {
        "id": "owuLEKEY_8le"
      },
      "source": [
        "ВАРИАНТ 3"
      ]
    },
    {
      "cell_type": "code",
      "metadata": {
        "colab": {
          "base_uri": "https://localhost:8080/"
        },
        "id": "uZ518kfM_7r8",
        "outputId": "52f5b635-f03b-4500-fb60-8c5b65f07715"
      },
      "source": [
        "temp_df = data\n",
        "temp_df['genres'] = temp_df['genres'].apply(lambda genre:genre.split('|'))\n",
        "temp_df_genres = temp_df.explode('genres')\n",
        "print(temp_df_genres['genres'].value_counts().index.to_list()[0])"
      ],
      "execution_count": 25,
      "outputs": [
        {
          "output_type": "stream",
          "text": [
            "Drama\n"
          ],
          "name": "stdout"
        }
      ]
    },
    {
      "cell_type": "markdown",
      "metadata": {
        "id": "T9_bPWpkVp_Q"
      },
      "source": [
        "# 12. Фильмы какого жанра чаще всего становятся прибыльными? "
      ]
    },
    {
      "cell_type": "code",
      "metadata": {
        "id": "HBAZW0xY_jd2"
      },
      "source": [
        "answers['12'] = '1. Drama'"
      ],
      "execution_count": 263,
      "outputs": []
    },
    {
      "cell_type": "code",
      "metadata": {
        "id": "Tmt8MaK1Vp_R",
        "colab": {
          "base_uri": "https://localhost:8080/"
        },
        "outputId": "53bc7b2a-4d34-4457-af06-dac1a236e351"
      },
      "source": [
        "temp_filter = data['profit'] > 0\n",
        "temp_df = data[temp_filter]\n",
        "temp_list = temp_df['genres'].str.cat(sep='|').split('|')\n",
        "temp_series = pd.Series(temp_list)\n",
        "print(temp_series.value_counts().index.to_list()[0])"
      ],
      "execution_count": 353,
      "outputs": [
        {
          "output_type": "stream",
          "text": [
            "Drama\n"
          ],
          "name": "stdout"
        }
      ]
    },
    {
      "cell_type": "markdown",
      "metadata": {
        "id": "8fHS0HtUCbQV"
      },
      "source": [
        "ВАРИАНТ 2"
      ]
    },
    {
      "cell_type": "code",
      "metadata": {
        "colab": {
          "base_uri": "https://localhost:8080/"
        },
        "id": "YgE-bZGdCeR0",
        "outputId": "bc72f455-d017-4d81-d4e7-6629c7a49eca"
      },
      "source": [
        "temp_filter = data['profit'] > 0\n",
        "temp_df = data[temp_filter]\n",
        "temp_df['genres'] = temp_df['genres'].apply(lambda genre:genre.split('|'))\n",
        "temp_df_genres = temp_df.explode('genres')\n",
        "print(temp_df_genres['genres'].value_counts().index.to_list()[0])"
      ],
      "execution_count": 29,
      "outputs": [
        {
          "output_type": "stream",
          "text": [
            "Drama\n"
          ],
          "name": "stdout"
        },
        {
          "output_type": "stream",
          "text": [
            "/usr/local/lib/python3.6/dist-packages/ipykernel_launcher.py:3: SettingWithCopyWarning: \n",
            "A value is trying to be set on a copy of a slice from a DataFrame.\n",
            "Try using .loc[row_indexer,col_indexer] = value instead\n",
            "\n",
            "See the caveats in the documentation: https://pandas.pydata.org/pandas-docs/stable/user_guide/indexing.html#returning-a-view-versus-a-copy\n",
            "  This is separate from the ipykernel package so we can avoid doing imports until\n"
          ],
          "name": "stderr"
        }
      ]
    },
    {
      "cell_type": "markdown",
      "metadata": {
        "id": "0F23bgsDVp_U"
      },
      "source": [
        "# 13. У какого режиссера самые большие суммарные кассовые сборы?"
      ]
    },
    {
      "cell_type": "code",
      "metadata": {
        "id": "eRI6SwYG_p4_"
      },
      "source": [
        "answers['13'] = '5. Peter Jackson'"
      ],
      "execution_count": 264,
      "outputs": []
    },
    {
      "cell_type": "code",
      "metadata": {
        "id": "K6Z3J8ygVp_X",
        "colab": {
          "base_uri": "https://localhost:8080/"
        },
        "outputId": "b37e56de-cfd5-4923-9135-1e0ddf590b4b"
      },
      "source": [
        "temp_grouped_series = data.groupby(['director'])['revenue'].sum().sort_values()\n",
        "print(temp_grouped_series.index.to_list()[-1])"
      ],
      "execution_count": 32,
      "outputs": [
        {
          "output_type": "stream",
          "text": [
            "Peter Jackson\n"
          ],
          "name": "stdout"
        }
      ]
    },
    {
      "cell_type": "markdown",
      "metadata": {
        "id": "PsYC9FgRVp_a"
      },
      "source": [
        "# 14. Какой режисер снял больше всего фильмов в стиле Action?"
      ]
    },
    {
      "cell_type": "code",
      "metadata": {
        "id": "Y6EA_ZQY_vEp"
      },
      "source": [
        "answers['14'] = '3. Robert Rodriguez'"
      ],
      "execution_count": 265,
      "outputs": []
    },
    {
      "cell_type": "code",
      "metadata": {
        "id": "wd2M-wHeVp_b",
        "colab": {
          "base_uri": "https://localhost:8080/"
        },
        "outputId": "dc7ba613-6a84-4d7f-c815-b4946d11be06"
      },
      "source": [
        "temp_filter = data['genres'].str.contains('Action')\n",
        "temp_df = data[temp_filter]\n",
        "temp_list = temp_df['director'].str.cat(sep='|').split('|')\n",
        "temp_series = pd.Series(temp_list)\n",
        "print(temp_series.value_counts().index.to_list()[0])"
      ],
      "execution_count": 33,
      "outputs": [
        {
          "output_type": "stream",
          "text": [
            "Robert Rodriguez\n"
          ],
          "name": "stdout"
        }
      ]
    },
    {
      "cell_type": "markdown",
      "metadata": {
        "id": "PQ0KciD7Vp_f"
      },
      "source": [
        "# 15. Фильмы с каким актером принесли самые высокие кассовые сборы в 2012 году? "
      ]
    },
    {
      "cell_type": "code",
      "metadata": {
        "id": "jgaVAWrB_0tR"
      },
      "source": [
        "answers['15'] = '3. Chris Hemsworth'"
      ],
      "execution_count": 266,
      "outputs": []
    },
    {
      "cell_type": "code",
      "metadata": {
        "id": "aga62oeKVp_g",
        "colab": {
          "base_uri": "https://localhost:8080/"
        },
        "outputId": "4e26026f-ed97-4847-c224-4a0adc5fc04e"
      },
      "source": [
        "temp_filter = data['release_year'] == 2012\n",
        "temp_df = data[temp_filter]\n",
        "temp_df['cast'] = temp_df['cast'].apply(lambda cast:cast.split('|'))\n",
        "temp_df_cast = temp_df.explode('cast')\n",
        "temp_list_grouped = temp_df_cast.groupby(['cast'])['revenue'].sum().sort_values()\n",
        "print(temp_list_grouped.index.to_list()[-1])"
      ],
      "execution_count": 36,
      "outputs": [
        {
          "output_type": "stream",
          "text": [
            "Chris Hemsworth\n"
          ],
          "name": "stdout"
        },
        {
          "output_type": "stream",
          "text": [
            "/usr/local/lib/python3.6/dist-packages/ipykernel_launcher.py:3: SettingWithCopyWarning: \n",
            "A value is trying to be set on a copy of a slice from a DataFrame.\n",
            "Try using .loc[row_indexer,col_indexer] = value instead\n",
            "\n",
            "See the caveats in the documentation: https://pandas.pydata.org/pandas-docs/stable/user_guide/indexing.html#returning-a-view-versus-a-copy\n",
            "  This is separate from the ipykernel package so we can avoid doing imports until\n"
          ],
          "name": "stderr"
        }
      ]
    },
    {
      "cell_type": "markdown",
      "metadata": {
        "id": "mWHyyL7QVp_j"
      },
      "source": [
        "# 16. Какой актер снялся в большем количестве высокобюджетных фильмов?"
      ]
    },
    {
      "cell_type": "code",
      "metadata": {
        "id": "U97QU1mm_5vD"
      },
      "source": [
        "answers['16'] = '3. Matt Damon'"
      ],
      "execution_count": 267,
      "outputs": []
    },
    {
      "cell_type": "code",
      "metadata": {
        "id": "qQtmHKTFVp_k",
        "colab": {
          "base_uri": "https://localhost:8080/"
        },
        "outputId": "1f6037d2-e390-43ec-eba8-07d88673024f"
      },
      "source": [
        "temp_filter = data['budget'] > data['budget'].mean()\n",
        "temp_df = data[temp_filter]\n",
        "temp_df['cast'] = temp_df['cast'].apply(lambda cast:cast.split('|'))\n",
        "temp_df_cast = temp_df.explode('cast')\n",
        "print(temp_df_cast['cast'].value_counts().index.to_list()[0])"
      ],
      "execution_count": 40,
      "outputs": [
        {
          "output_type": "stream",
          "text": [
            "Matt Damon\n"
          ],
          "name": "stdout"
        },
        {
          "output_type": "stream",
          "text": [
            "/usr/local/lib/python3.6/dist-packages/ipykernel_launcher.py:3: SettingWithCopyWarning: \n",
            "A value is trying to be set on a copy of a slice from a DataFrame.\n",
            "Try using .loc[row_indexer,col_indexer] = value instead\n",
            "\n",
            "See the caveats in the documentation: https://pandas.pydata.org/pandas-docs/stable/user_guide/indexing.html#returning-a-view-versus-a-copy\n",
            "  This is separate from the ipykernel package so we can avoid doing imports until\n"
          ],
          "name": "stderr"
        }
      ]
    },
    {
      "cell_type": "markdown",
      "metadata": {
        "id": "NIh6AaW5Vp_n"
      },
      "source": [
        "# 17. В фильмах какого жанра больше всего снимался Nicolas Cage? "
      ]
    },
    {
      "cell_type": "code",
      "metadata": {
        "id": "v9MmJdjb_-Yp"
      },
      "source": [
        "answers['17'] = '2. Action'"
      ],
      "execution_count": 268,
      "outputs": []
    },
    {
      "cell_type": "code",
      "metadata": {
        "id": "H74SJDIBVp_n",
        "colab": {
          "base_uri": "https://localhost:8080/"
        },
        "outputId": "186d89a8-ddb8-4655-d72d-32b193acb199"
      },
      "source": [
        "temp_filter = data['cast'].str.contains('Nicolas Cage')\n",
        "temp_df = data[temp_filter]\n",
        "temp_df['genres'] = temp_df['genres'].apply(lambda genre:genre.split('|'))\n",
        "temp_df_genres = temp_df.explode('genres')\n",
        "print(temp_df_genres['genres'].value_counts().index.to_list()[0])"
      ],
      "execution_count": 43,
      "outputs": [
        {
          "output_type": "stream",
          "text": [
            "Action\n"
          ],
          "name": "stdout"
        },
        {
          "output_type": "stream",
          "text": [
            "/usr/local/lib/python3.6/dist-packages/ipykernel_launcher.py:3: SettingWithCopyWarning: \n",
            "A value is trying to be set on a copy of a slice from a DataFrame.\n",
            "Try using .loc[row_indexer,col_indexer] = value instead\n",
            "\n",
            "See the caveats in the documentation: https://pandas.pydata.org/pandas-docs/stable/user_guide/indexing.html#returning-a-view-versus-a-copy\n",
            "  This is separate from the ipykernel package so we can avoid doing imports until\n"
          ],
          "name": "stderr"
        }
      ]
    },
    {
      "cell_type": "markdown",
      "metadata": {
        "id": "RqOmPRfWVp_q"
      },
      "source": [
        "# 18. Самый убыточный фильм от Paramount Pictures"
      ]
    },
    {
      "cell_type": "code",
      "metadata": {
        "id": "wLBwWyykADUs"
      },
      "source": [
        "answers['18'] = '1. K-19: The Widowmaker (tt0267626)'"
      ],
      "execution_count": 269,
      "outputs": []
    },
    {
      "cell_type": "code",
      "metadata": {
        "id": "9E_B0Y96Vp_r",
        "colab": {
          "base_uri": "https://localhost:8080/"
        },
        "outputId": "8c9161a4-99f2-4ca0-8b32-58a91ce944cb"
      },
      "source": [
        "temp_df = data[data['production_companies'].str.contains('Paramount Pictures')]\n",
        "temp_filter = temp_df['profit'] == temp_df['profit'].min()\n",
        "temp_index = temp_df[temp_filter].index.to_list()[0]\n",
        "temp_film_name = temp_df['original_title'][temp_index]\n",
        "temp_lmdb_id = temp_df['imdb_id'][temp_index]\n",
        "print(f\"{temp_film_name} ({temp_lmdb_id})\")"
      ],
      "execution_count": 104,
      "outputs": [
        {
          "output_type": "stream",
          "text": [
            "K-19: The Widowmaker (tt0267626)\n"
          ],
          "name": "stdout"
        }
      ]
    },
    {
      "cell_type": "markdown",
      "metadata": {
        "id": "vS8Ur6ddVp_u"
      },
      "source": [
        "# 19. Какой год стал самым успешным по суммарным кассовым сборам?"
      ]
    },
    {
      "cell_type": "code",
      "metadata": {
        "id": "NSeAr9ohAJ3X"
      },
      "source": [
        "answers['19'] = '5. 2015'"
      ],
      "execution_count": 270,
      "outputs": []
    },
    {
      "cell_type": "code",
      "metadata": {
        "id": "Dnbt4GdIVp_v",
        "colab": {
          "base_uri": "https://localhost:8080/"
        },
        "outputId": "7ca64742-3c9f-4a5b-b280-5c001ffb6b51"
      },
      "source": [
        "# Серьезно? Так просто? О_о\n",
        "temp_list_grouped = data.groupby(['release_year'])['revenue'].sum().sort_values()\n",
        "print(temp_list_grouped.index.to_list()[-1])"
      ],
      "execution_count": 102,
      "outputs": [
        {
          "output_type": "stream",
          "text": [
            "2015\n"
          ],
          "name": "stdout"
        }
      ]
    },
    {
      "cell_type": "markdown",
      "metadata": {
        "id": "JAzJh4QAVp_z"
      },
      "source": [
        "# 20. Какой самый прибыльный год для студии Warner Bros?"
      ]
    },
    {
      "cell_type": "code",
      "metadata": {
        "id": "r_eVBF7vAPLn"
      },
      "source": [
        "answers['20'] = '1. 2014'"
      ],
      "execution_count": 271,
      "outputs": []
    },
    {
      "cell_type": "code",
      "metadata": {
        "id": "wgVu02DEVp_0",
        "colab": {
          "base_uri": "https://localhost:8080/"
        },
        "outputId": "b4ffb650-0c2d-481f-f59c-31fff7018f48"
      },
      "source": [
        "temp_df = data[data['production_companies'].str.contains('Warner Bros')]\n",
        "temp_list_grouped = temp_df.groupby(['release_year'])['profit'].sum().sort_values()\n",
        "print(temp_list_grouped.index.to_list()[-1])"
      ],
      "execution_count": 103,
      "outputs": [
        {
          "output_type": "stream",
          "text": [
            "2014\n"
          ],
          "name": "stdout"
        }
      ]
    },
    {
      "cell_type": "markdown",
      "metadata": {
        "id": "8Im1S2HRVp_4"
      },
      "source": [
        "# 21. В каком месяце за все годы суммарно вышло больше всего фильмов?"
      ]
    },
    {
      "cell_type": "code",
      "metadata": {
        "id": "YB0kb9aWAT78"
      },
      "source": [
        "answers['21'] = '4. Сентябрь (9 месяц)'"
      ],
      "execution_count": 272,
      "outputs": []
    },
    {
      "cell_type": "code",
      "metadata": {
        "id": "lev6TH7gVp_4",
        "colab": {
          "base_uri": "https://localhost:8080/"
        },
        "outputId": "85e6ee1a-97b2-429e-bf94-0da9ab65c44a"
      },
      "source": [
        "print(data['month'].value_counts().index.to_list()[0])"
      ],
      "execution_count": 97,
      "outputs": [
        {
          "output_type": "stream",
          "text": [
            "9\n"
          ],
          "name": "stdout"
        }
      ]
    },
    {
      "cell_type": "markdown",
      "metadata": {
        "id": "uAJsZ_NeVp_7"
      },
      "source": [
        "# 22. Сколько суммарно вышло фильмов летом? (за июнь, июль, август)"
      ]
    },
    {
      "cell_type": "code",
      "metadata": {
        "id": "QMOWGRnmAc4C"
      },
      "source": [
        "answers['22'] = '2. 450'"
      ],
      "execution_count": 273,
      "outputs": []
    },
    {
      "cell_type": "code",
      "metadata": {
        "id": "Aa-hEREoVp_8",
        "colab": {
          "base_uri": "https://localhost:8080/"
        },
        "outputId": "ba5157e2-19af-401a-c2ab-2aaca2f055a8"
      },
      "source": [
        "temp_df = data[data['season_of_year'] == 'summer']\n",
        "print(len(temp_df))"
      ],
      "execution_count": 101,
      "outputs": [
        {
          "output_type": "stream",
          "text": [
            "450\n"
          ],
          "name": "stdout"
        }
      ]
    },
    {
      "cell_type": "markdown",
      "metadata": {
        "id": "G94ppOY1VqAA"
      },
      "source": [
        "# 23. Для какого режиссера зима – самое продуктивное время года? "
      ]
    },
    {
      "cell_type": "code",
      "metadata": {
        "id": "cFnf3hBSAi5a"
      },
      "source": [
        "answers['23'] = '5. Peter Jackson'"
      ],
      "execution_count": 274,
      "outputs": []
    },
    {
      "cell_type": "code",
      "metadata": {
        "id": "RhNTsamuVqAB",
        "colab": {
          "base_uri": "https://localhost:8080/"
        },
        "outputId": "f9104c8d-5c1c-4b0e-c013-c0820a550201"
      },
      "source": [
        "temp_filter = data['season_of_year'] == 'winter'\n",
        "temp_df = data[temp_filter]\n",
        "temp_df['director'] = temp_df['director'].apply(lambda director:director.split('|'))\n",
        "temp_df_director = temp_df.explode('director')\n",
        "print(temp_df_director['director'].value_counts().index.to_list()[0])"
      ],
      "execution_count": 109,
      "outputs": [
        {
          "output_type": "stream",
          "text": [
            "Peter Jackson\n"
          ],
          "name": "stdout"
        },
        {
          "output_type": "stream",
          "text": [
            "/usr/local/lib/python3.6/dist-packages/ipykernel_launcher.py:3: SettingWithCopyWarning: \n",
            "A value is trying to be set on a copy of a slice from a DataFrame.\n",
            "Try using .loc[row_indexer,col_indexer] = value instead\n",
            "\n",
            "See the caveats in the documentation: https://pandas.pydata.org/pandas-docs/stable/user_guide/indexing.html#returning-a-view-versus-a-copy\n",
            "  This is separate from the ipykernel package so we can avoid doing imports until\n"
          ],
          "name": "stderr"
        }
      ]
    },
    {
      "cell_type": "markdown",
      "metadata": {
        "id": "RBo0JVjVVqAF"
      },
      "source": [
        "# 24. Какая студия дает самые длинные названия своим фильмам по количеству символов?"
      ]
    },
    {
      "cell_type": "code",
      "metadata": {
        "id": "x1shZdCfApMD"
      },
      "source": [
        "answers['24'] = '5. Four By Two Productions'"
      ],
      "execution_count": 275,
      "outputs": []
    },
    {
      "cell_type": "code",
      "metadata": {
        "id": "QRGS8L0iVqAG",
        "colab": {
          "base_uri": "https://localhost:8080/",
          "height": 77
        },
        "outputId": "6ed43eff-7740-443e-e237-a75ae82f2c08"
      },
      "source": [
        "temp_df = data\n",
        "temp_df['production_companies'] = temp_df['production_companies'].apply(\n",
        "    lambda companie:companie.split('|'))\n",
        "temp_df_companie = temp_df.explode('production_companies')\n",
        "temp_series = temp_df_companie.groupby(['production_companies'])['original_title_len'].mean()\n",
        "temp_len_df = temp_series.reset_index()\n",
        "temp_len_df[temp_len_df['original_title_len'] \n",
        "                == temp_len_df['original_title_len'].max()]"
      ],
      "execution_count": 245,
      "outputs": [
        {
          "output_type": "execute_result",
          "data": {
            "text/html": [
              "<div>\n",
              "<style scoped>\n",
              "    .dataframe tbody tr th:only-of-type {\n",
              "        vertical-align: middle;\n",
              "    }\n",
              "\n",
              "    .dataframe tbody tr th {\n",
              "        vertical-align: top;\n",
              "    }\n",
              "\n",
              "    .dataframe thead th {\n",
              "        text-align: right;\n",
              "    }\n",
              "</style>\n",
              "<table border=\"1\" class=\"dataframe\">\n",
              "  <thead>\n",
              "    <tr style=\"text-align: right;\">\n",
              "      <th></th>\n",
              "      <th>production_companies</th>\n",
              "      <th>original_title_len</th>\n",
              "    </tr>\n",
              "  </thead>\n",
              "  <tbody>\n",
              "    <tr>\n",
              "      <th>583</th>\n",
              "      <td>Four By Two Productions</td>\n",
              "      <td>83.0</td>\n",
              "    </tr>\n",
              "  </tbody>\n",
              "</table>\n",
              "</div>"
            ],
            "text/plain": [
              "        production_companies  original_title_len\n",
              "583  Four By Two Productions                83.0"
            ]
          },
          "metadata": {
            "tags": []
          },
          "execution_count": 245
        }
      ]
    },
    {
      "cell_type": "markdown",
      "metadata": {
        "id": "9G0hbvR7VqAK"
      },
      "source": [
        "# 25. Описание фильмов какой студии в среднем самые длинные по количеству слов?"
      ]
    },
    {
      "cell_type": "code",
      "metadata": {
        "id": "k8wNUoW8AxwD"
      },
      "source": [
        "answers['25'] = '3. Midnight Picture Show'"
      ],
      "execution_count": 276,
      "outputs": []
    },
    {
      "cell_type": "code",
      "metadata": {
        "id": "Ge2GsLNxVqAK",
        "colab": {
          "base_uri": "https://localhost:8080/"
        },
        "outputId": "89a06468-7f0c-4df9-b404-b0e612462a80"
      },
      "source": [
        "temp_df = data\n",
        "temp_df['production_companies'] = temp_df['production_companies'].apply(\n",
        "    lambda companie:companie.split('|'))\n",
        "temp_df_companie = temp_df.explode('production_companies')\n",
        "temp_grouped = temp_df_companie.groupby(\n",
        "    ['production_companies'])['overview_words_count'].mean()\n",
        "temp_grouped_df = temp_grouped.reset_index()\n",
        "print(temp_grouped_df[temp_grouped_df['overview_words_count'] \n",
        "                == temp_grouped_df['overview_words_count'].max()]['production_companies'][1041])"
      ],
      "execution_count": 162,
      "outputs": [
        {
          "output_type": "stream",
          "text": [
            "Midnight Picture Show\n"
          ],
          "name": "stdout"
        }
      ]
    },
    {
      "cell_type": "markdown",
      "metadata": {
        "id": "FJ1AFt90VqAP"
      },
      "source": [
        "# 26. Какие фильмы входят в 1 процент лучших по рейтингу? \n",
        "по vote_average"
      ]
    },
    {
      "cell_type": "code",
      "metadata": {
        "id": "-O-rIj3BA4oo"
      },
      "source": [
        "answers['26'] = '1. Inside Out, The Dark Knight, 12 Years a Slave'"
      ],
      "execution_count": 277,
      "outputs": []
    },
    {
      "cell_type": "code",
      "metadata": {
        "id": "8qmJVq4CVqAQ",
        "colab": {
          "base_uri": "https://localhost:8080/"
        },
        "outputId": "f27386a5-26fc-45f0-d2a0-f9e71faa5117"
      },
      "source": [
        "sorted_df = data.sort_values(by='vote_average', ascending=False)\n",
        "df_best_one_percent = sorted_df.head(int(round(len(sorted_df)*0.01)))\n",
        "df_best_one_percent['original_title'].to_list()"
      ],
      "execution_count": 180,
      "outputs": [
        {
          "output_type": "execute_result",
          "data": {
            "text/plain": [
              "['The Dark Knight',\n",
              " 'Interstellar',\n",
              " 'The Imitation Game',\n",
              " 'Inside Out',\n",
              " 'Room',\n",
              " 'The Wolf of Wall Street',\n",
              " 'Gone Girl',\n",
              " '12 Years a Slave',\n",
              " 'Guardians of the Galaxy',\n",
              " 'The Lord of the Rings: The Return of the King',\n",
              " 'Memento',\n",
              " 'Inception',\n",
              " 'The Pianist',\n",
              " 'The Grand Budapest Hotel',\n",
              " 'Her',\n",
              " 'Spotlight',\n",
              " 'Big Hero 6',\n",
              " 'The Fault in Our Stars',\n",
              " 'The Lord of the Rings: The Two Towers']"
            ]
          },
          "metadata": {
            "tags": []
          },
          "execution_count": 180
        }
      ]
    },
    {
      "cell_type": "markdown",
      "metadata": {
        "id": "MdXsUXbCVqAV"
      },
      "source": [
        "# 27. Какие актеры чаще всего снимаются в одном фильме вместе?\n"
      ]
    },
    {
      "cell_type": "code",
      "metadata": {
        "id": "9HQBgdHoBDeV"
      },
      "source": [
        "answers['27'] = '5. Daniel Radcliffe, Rupert Grint'"
      ],
      "execution_count": 278,
      "outputs": []
    },
    {
      "cell_type": "code",
      "metadata": {
        "colab": {
          "base_uri": "https://localhost:8080/"
        },
        "id": "Ts5xuwaSvzdo",
        "outputId": "a44c0d1c-ee91-47bd-ba71-3d11ddeeb54e"
      },
      "source": [
        "temp_df = data\n",
        "temp_df['cast'] = temp_df['cast'].apply(\n",
        "    lambda cast:cast.split('|'))\n",
        "\n",
        "count = 0\n",
        "temp_result = list()\n",
        "for i in range(len(data)):\n",
        "  temp_list = temp_df['cast'][count]\n",
        "  result = itertools.combinations(temp_list, 2)\n",
        "  for item in result:\n",
        "    temp_result.append(item)\n",
        "  count += 1\n",
        "\n",
        "temp_series = pd.Series(temp_result)\n",
        "temp_series.value_counts()"
      ],
      "execution_count": 250,
      "outputs": [
        {
          "output_type": "execute_result",
          "data": {
            "text/plain": [
              "(Daniel Radcliffe, Emma Watson)        8\n",
              "(Daniel Radcliffe, Rupert Grint)       8\n",
              "(Rupert Grint, Emma Watson)            7\n",
              "(Johnny Depp, Helena Bonham Carter)    6\n",
              "(Ben Stiller, Owen Wilson)             6\n",
              "                                      ..\n",
              "(Michael Gambon, Diego Luna)           1\n",
              "(Joel Kinnaman, Max Minghella)         1\n",
              "(Nicolas Cage, Shahkrit Yamnarm)       1\n",
              "(Diego Boneta, Bryan Cranston)         1\n",
              "(John Cena, Robert Patrick)            1\n",
              "Length: 18121, dtype: int64"
            ]
          },
          "metadata": {
            "tags": []
          },
          "execution_count": 250
        }
      ]
    },
    {
      "cell_type": "markdown",
      "metadata": {
        "id": "U0nONFnGVqAX"
      },
      "source": [
        "# Submission"
      ]
    },
    {
      "cell_type": "code",
      "metadata": {
        "id": "IfcaRO9-VqAX",
        "colab": {
          "base_uri": "https://localhost:8080/"
        },
        "outputId": "a3a83307-151e-4daa-ce9a-d073abab7597"
      },
      "source": [
        "# в конце можно посмотреть свои ответы к каждому вопросу\n",
        "answers"
      ],
      "execution_count": 279,
      "outputs": [
        {
          "output_type": "execute_result",
          "data": {
            "text/plain": [
              "{'1': '5. Pirates of the Caribbean: On Stranger Tides (tt0413300)',\n",
              " '10': '5. The Lone Ranger (tt1210819)',\n",
              " '11': '3. Drama',\n",
              " '12': '1. Drama',\n",
              " '13': '5. Peter Jackson',\n",
              " '14': '3. Robert Rodriguez',\n",
              " '15': '3. Chris Hemsworth',\n",
              " '16': '3. Matt Damon',\n",
              " '17': '2. Action',\n",
              " '18': '1. K-19: The Widowmaker (tt0267626)',\n",
              " '19': '5. 2015',\n",
              " '2': '2. Gods and Generals (tt0279111)',\n",
              " '20': '1. 2014',\n",
              " '21': '4. Сентябрь (9 месяц)',\n",
              " '22': '2. 450',\n",
              " '23': '5. Peter Jackson',\n",
              " '24': '5. Four By Two Productions',\n",
              " '25': '3. Midnight Picture Show',\n",
              " '26': '1. Inside Out, The Dark Knight, 12 Years a Slave',\n",
              " '27': '5. Daniel Radcliffe, Rupert Grint',\n",
              " '3': '3. Winnie the Pooh (tt1449283)',\n",
              " '4': '2. 110',\n",
              " '5': '1. 107',\n",
              " '6': '5. Avatar (tt0499549)',\n",
              " '7': '5. The Lone Ranger (tt1210819)',\n",
              " '8': '1. 1478',\n",
              " '9': '4. The Dark Knight (tt0468569)'}"
            ]
          },
          "metadata": {
            "tags": []
          },
          "execution_count": 279
        }
      ]
    },
    {
      "cell_type": "code",
      "metadata": {
        "id": "SiRmHPl8VqAd",
        "colab": {
          "base_uri": "https://localhost:8080/"
        },
        "outputId": "25588451-8aeb-4780-d54b-cbe6a705da8f"
      },
      "source": [
        "# и убедиться что ни чего не пропустил)\n",
        "len(answers)"
      ],
      "execution_count": 280,
      "outputs": [
        {
          "output_type": "execute_result",
          "data": {
            "text/plain": [
              "27"
            ]
          },
          "metadata": {
            "tags": []
          },
          "execution_count": 280
        }
      ]
    },
    {
      "cell_type": "code",
      "metadata": {
        "id": "uCfuTkRbVqAg"
      },
      "source": [
        ""
      ],
      "execution_count": null,
      "outputs": []
    },
    {
      "cell_type": "code",
      "metadata": {
        "id": "Vwx3NrkSVqAl"
      },
      "source": [
        ""
      ],
      "execution_count": null,
      "outputs": []
    }
  ]
}